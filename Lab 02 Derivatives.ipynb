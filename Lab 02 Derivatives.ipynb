{
 "cells": [
  {
   "cell_type": "markdown",
   "metadata": {
    "nbgrader": {
     "grade": false,
     "grade_id": "cell-2acf97db08b66511",
     "locked": true,
     "schema_version": 1,
     "solution": false
    }
   },
   "source": [
    "# Lab 02: Derivatives"
   ]
  },
  {
   "cell_type": "markdown",
   "metadata": {
    "nbgrader": {
     "grade": false,
     "grade_id": "cell-dafec31ba4260cd0",
     "locked": true,
     "schema_version": 1,
     "solution": false
    }
   },
   "source": [
    "By the end of this lab, you should be able to do the following: \n",
    "\n",
    "* Calculate the derivative of a function\n",
    "* Plot the derivative\n",
    "* Compute the second derivative\n",
    "\n",
    "If at any point you want more cells, use the `insert` menu above. To evaluate a cell, press `shift+enter`. \n",
    "\n",
    "If at any point you want to restart and clear the output, use the `kernel` menu above. "
   ]
  },
  {
   "cell_type": "markdown",
   "metadata": {
    "nbgrader": {
     "grade": false,
     "grade_id": "cell-d597a199555815e2",
     "locked": true,
     "schema_version": 1,
     "solution": false
    }
   },
   "source": [
    "### Setup\n",
    "\n",
    "Every time we use these notebooks, the first thing we have to do is import all the needed libraries.\n",
    "```\n",
    "from sympy import *\n",
    "```\n",
    "This line of code lets the computer know what commands you will be using. Here `sympy` is an abbreviation for `Symbolic Python`. By running this code, we are giving the computer the ability to run a lot of different math commands. Go ahead and run the cell below by pressing `shift+enter`.\n",
    "\n",
    "(If you are interested in learning more about `sympy`, you should check out the documentation here: [https://docs.sympy.org/latest/index.html](https://docs.sympy.org/latest/index.html).)"
   ]
  },
  {
   "cell_type": "code",
   "execution_count": 1,
   "metadata": {},
   "outputs": [],
   "source": [
    "from sympy import *"
   ]
  },
  {
   "cell_type": "markdown",
   "metadata": {
    "nbgrader": {
     "grade": false,
     "grade_id": "cell-d4059d6562b9a06c",
     "locked": true,
     "schema_version": 1,
     "solution": false
    }
   },
   "source": [
    "### Finding the derivative\n",
    "\n",
    "Before we can calculate the derivative, we need to define a function. Let's look at $f(x) = -53x^3+x-5$. Can you define this as `f`? If you need help, look at your previous lab. "
   ]
  },
  {
   "cell_type": "code",
   "execution_count": null,
   "metadata": {},
   "outputs": [],
   "source": []
  },
  {
   "cell_type": "markdown",
   "metadata": {
    "nbgrader": {
     "grade": false,
     "grade_id": "cell-9529b283f7ddf1b7",
     "locked": true,
     "schema_version": 1,
     "solution": false
    }
   },
   "source": [
    "Great job! Now plot `f` with $-7 \\leq x \\leq 7$ and $-7 \\leq y \\leq 7$."
   ]
  },
  {
   "cell_type": "code",
   "execution_count": null,
   "metadata": {},
   "outputs": [],
   "source": []
  },
  {
   "cell_type": "markdown",
   "metadata": {},
   "source": [
    "On a separate sheet of paper, draw the graph of $f'(x)$. Make sure and check it with a partner, a tutor, or a professor. \n",
    "\n",
    "At this point we wish to use python to find the derivative. Before we used limits to calculate the derivative, but today we will use the built in function `diff`. For example, type \n",
    "```\n",
    "df = diff(f,x)\n",
    "df\n",
    "```\n",
    "here we mean the derivative of $f$ with respect to f $x$. We are letting this function be called `df`. \n"
   ]
  },
  {
   "cell_type": "code",
   "execution_count": null,
   "metadata": {},
   "outputs": [],
   "source": []
  },
  {
   "cell_type": "markdown",
   "metadata": {},
   "source": [
    "Now plot `df` on with the same constraints as `f` and check to see if your drawing is correct. "
   ]
  },
  {
   "cell_type": "code",
   "execution_count": null,
   "metadata": {},
   "outputs": [],
   "source": []
  },
  {
   "cell_type": "markdown",
   "metadata": {},
   "source": [
    "Fantastic! Now do the same with the following functions. Plot the functions and draw the derivatives. Then check your answer. \n",
    "\n",
    "* $\\displaystyle g(x) = \\frac{x+1}{x^2+1}$\n",
    "* $h(x) = \\sqrt{x+3}$\n",
    "* $w(x) = \\sin(x)$"
   ]
  },
  {
   "cell_type": "code",
   "execution_count": null,
   "metadata": {},
   "outputs": [],
   "source": [
    "\n"
   ]
  },
  {
   "cell_type": "markdown",
   "metadata": {},
   "source": [
    "### Second Derivatives\n",
    "\n",
    "Now we would like to calculate the second derivative. To do this we can just apply `diff` twice! For example, \n",
    "```\n",
    "ddf = diff(df,x)\n",
    "ddf\n",
    "```\n",
    "We could also use `diff` to tell the computer how many derivatives to take. To do this, just add a number after the `x`. For example, \n",
    "```\n",
    "ddf = diff(f,x,2)\n",
    "ddf\n",
    "```\n",
    "is the second derivative of $f(x)$ with respect to $x$. Try both ways."
   ]
  },
  {
   "cell_type": "code",
   "execution_count": null,
   "metadata": {},
   "outputs": [],
   "source": []
  },
  {
   "cell_type": "markdown",
   "metadata": {},
   "source": [
    "Congratulations! You are a derivative master. Now plot the first derivatives of $f$, $g$, $h$, and $w$. Can you draw the second derivative? "
   ]
  },
  {
   "cell_type": "code",
   "execution_count": null,
   "metadata": {},
   "outputs": [],
   "source": []
  },
  {
   "cell_type": "markdown",
   "metadata": {},
   "source": [
    "### Challenge Question (do this!).\n",
    "\n",
    "Now for the hard part. Look at all three graphs of each function. I.e. the function, the derivative, and the second derivative. Can you find a relation between the zeros of the second derivative (where it crosses the $x$-axis) and the graphs of the function and the first derivative? Give this some serious thought and discuss it with your partner(s)"
   ]
  },
  {
   "cell_type": "code",
   "execution_count": null,
   "metadata": {},
   "outputs": [],
   "source": []
  },
  {
   "cell_type": "markdown",
   "metadata": {},
   "source": [
    "### Challenge Question\n",
    "\n",
    "Can you plot $f(x)$, $f'(x)$, and $f''(x)$ on the same graph? (see Lab 01)"
   ]
  },
  {
   "cell_type": "code",
   "execution_count": null,
   "metadata": {},
   "outputs": [],
   "source": []
  },
  {
   "cell_type": "markdown",
   "metadata": {},
   "source": [
    "### Challenge Question\n",
    "\n",
    "In Lab 01 you were asked to plot the function \n",
    "$$\n",
    "p(x) = \\begin{cases} 2x-1 & x\\leq -5 \\\\ x^2 & -5 < x \\leq 5 \\\\ \\sin(x) & x >5 \\end{cases}.\n",
    "$$\n",
    "Can you plot $p(x)$, $p'(x)$, and $p''(x)$? Do the derivatives behave like you would think? "
   ]
  },
  {
   "cell_type": "code",
   "execution_count": null,
   "metadata": {},
   "outputs": [],
   "source": []
  }
 ],
 "metadata": {
  "kernelspec": {
   "display_name": "Python 3",
   "language": "python",
   "name": "python3"
  },
  "language_info": {
   "codemirror_mode": {
    "name": "ipython",
    "version": 3
   },
   "file_extension": ".py",
   "mimetype": "text/x-python",
   "name": "python",
   "nbconvert_exporter": "python",
   "pygments_lexer": "ipython3",
   "version": "3.7.4"
  }
 },
 "nbformat": 4,
 "nbformat_minor": 2
}
