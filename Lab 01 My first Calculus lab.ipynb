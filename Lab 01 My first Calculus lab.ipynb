{
 "cells": [
  {
   "cell_type": "markdown",
   "metadata": {
    "nbgrader": {
     "grade": false,
     "grade_id": "cell-2acf97db08b66511",
     "locked": true,
     "schema_version": 1,
     "solution": false
    }
   },
   "source": [
    "# Lab 01: My first calculus lab"
   ]
  },
  {
   "cell_type": "markdown",
   "metadata": {
    "nbgrader": {
     "grade": false,
     "grade_id": "cell-dafec31ba4260cd0",
     "locked": true,
     "schema_version": 1,
     "solution": false
    }
   },
   "source": [
    "By the end of this lab, you should be able to do the following: \n",
    "\n",
    "* Define a function\n",
    "* Evaluate a function at a point\n",
    "* Plot a function\n",
    "* Calculate the limit of a function\n",
    "\n",
    "If at any point you want more cells, use the `insert` menu above. To evaluate a cell, press `shift+enter`. \n",
    "\n",
    "If at any point you want to restart and clear the output, use the `kernel` menu above. "
   ]
  },
  {
   "cell_type": "markdown",
   "metadata": {
    "nbgrader": {
     "grade": false,
     "grade_id": "cell-d597a199555815e2",
     "locked": true,
     "schema_version": 1,
     "solution": false
    }
   },
   "source": [
    "### Setup\n",
    "\n",
    "Every time we use these notebooks, the first thing we have to do is import all the needed libraries.\n",
    "```\n",
    "from sympy import *\n",
    "```\n",
    "This line of code lets the computer know what commands you will be using. Here `sympy` is an abbreviation for `Symbolic Python`. By running this code, we are giving the computer the ability to run a lot of different math commands. Go ahead and run the cell below by pressing `shift+enter`.\n",
    "\n",
    "(If you are interested in learning more about `sympy`, you should check out the documentation here: [https://docs.sympy.org/latest/index.html](https://docs.sympy.org/latest/index.html).)"
   ]
  },
  {
   "cell_type": "code",
   "execution_count": 1,
   "metadata": {},
   "outputs": [],
   "source": [
    "from sympy import *"
   ]
  },
  {
   "cell_type": "markdown",
   "metadata": {
    "nbgrader": {
     "grade": false,
     "grade_id": "cell-d4059d6562b9a06c",
     "locked": true,
     "schema_version": 1,
     "solution": false
    }
   },
   "source": [
    "### Defining a function\n",
    "\n",
    "Before we can define a function with our computer, we need to tell it what letters are going to be our variables. While computers are helpful, they cannot read our minds like Google. So if you want `x` to be a variable in our function, we need to tell the computer that `x` is a variable. To do this, type\n",
    "```\n",
    "x = symbols('x')\n",
    "``` \n",
    "in the cell below."
   ]
  },
  {
   "cell_type": "code",
   "execution_count": null,
   "metadata": {},
   "outputs": [],
   "source": []
  },
  {
   "cell_type": "markdown",
   "metadata": {
    "nbgrader": {
     "grade": false,
     "grade_id": "cell-9529b283f7ddf1b7",
     "locked": true,
     "schema_version": 1,
     "solution": false
    }
   },
   "source": [
    "Great job! Now we can define our function. Let's use the function $f(x) = -53x^3+x-5$. To write it in a way that the computer understands, we type \n",
    "```\n",
    "f = -53*x**3+x-5\n",
    "```\n",
    "Notice that we placed a `*` between the `53` and the `x`. This lets the computer know we want to multiply. For the exponent, we used `**` instead of `^` that you would normally use on a calculator. \n",
    "\n",
    "Go ahead and write the above function `f = -53*x**3+x-5` into the cell below. "
   ]
  },
  {
   "cell_type": "code",
   "execution_count": null,
   "metadata": {},
   "outputs": [],
   "source": []
  },
  {
   "cell_type": "markdown",
   "metadata": {},
   "source": [
    "If we want to see the function again, just write `f` and evaluate the cell. "
   ]
  },
  {
   "cell_type": "code",
   "execution_count": null,
   "metadata": {},
   "outputs": [],
   "source": []
  },
  {
   "cell_type": "markdown",
   "metadata": {},
   "source": [
    "The number $e$ is a mathematical constant that is the base of the natural logarithm and is approximately equal to $2.71828$. To let the computer know we want to use this special constant, we use the built in function `exp(x)`. Type in `exp(1)` to find out what $e = e^1$ equals. "
   ]
  },
  {
   "cell_type": "code",
   "execution_count": null,
   "metadata": {},
   "outputs": [],
   "source": []
  },
  {
   "cell_type": "markdown",
   "metadata": {},
   "source": [
    "You should get `E` as an output. This good. Sometimes people use `E` instead of $e$; it means the same thing. Now try typing in `exp(2)`. "
   ]
  },
  {
   "cell_type": "code",
   "execution_count": null,
   "metadata": {},
   "outputs": [],
   "source": []
  },
  {
   "cell_type": "markdown",
   "metadata": {},
   "source": [
    "Notice you just get the same thing back. This is because your computer is trying to give an exact value, but this is not possible. If we want to see an approximation, we need to type\n",
    "```\n",
    "N(exp(2),6)\n",
    "```\n",
    "This will give an approximation using 6 significant digits. Try it out. "
   ]
  },
  {
   "cell_type": "code",
   "execution_count": null,
   "metadata": {},
   "outputs": [],
   "source": []
  },
  {
   "cell_type": "markdown",
   "metadata": {},
   "source": [
    "Congratulations! You are a function master. Now try creating the function $g(x) = 25000e^{\\displaystyle{\\frac x 5}}$ in the cell below. Make sure and check your work with someone (partner, tutor, professor). "
   ]
  },
  {
   "cell_type": "code",
   "execution_count": null,
   "metadata": {},
   "outputs": [],
   "source": []
  },
  {
   "cell_type": "markdown",
   "metadata": {},
   "source": [
    "### Evaluating a function\n",
    "\n",
    "Above we defined two functions,$f(x) = -53x^3+x-5$ and $g(x) = 25000e^{\\displaystyle{\\frac x 5}}$. Now we would like to evaluate these functions at various points. To do this, we use the built in function, `subs()`, short for substitute. This function is used differently than the `exp()` from above. With `subs()`, we attach it to our function with a \"dot\". For example, if we wanted to find out what $f(4)$ equals, we can write\n",
    "```\n",
    "f.subs(x,4)\n",
    "```\n",
    "Notice we apply the `subs()` function to $f$ by using a \".\" between $f$ and `subs()`. We also tell the computer that we want to substitute $x$ with the number 4 by writing `(x,4)`. Go ahead and try it with various values. "
   ]
  },
  {
   "cell_type": "code",
   "execution_count": null,
   "metadata": {},
   "outputs": [],
   "source": []
  },
  {
   "cell_type": "markdown",
   "metadata": {},
   "source": [
    "Now evaluate $g(x)$ at three different values and compare with your partner. Try approximating your answer."
   ]
  },
  {
   "cell_type": "code",
   "execution_count": null,
   "metadata": {},
   "outputs": [],
   "source": []
  },
  {
   "cell_type": "markdown",
   "metadata": {},
   "source": [
    "### Plotting functions\n",
    "\n",
    "To plot functions, we use the `plot()` command. For example, \n",
    "```\n",
    "plot(f)\n",
    "```\n",
    "Go ahead and try it."
   ]
  },
  {
   "cell_type": "code",
   "execution_count": null,
   "metadata": {},
   "outputs": [],
   "source": []
  },
  {
   "cell_type": "markdown",
   "metadata": {},
   "source": [
    "To restrict the values of the $x$-axis, you can use an interval to define the domain. For example if I want to plot $g(x)$ between $-2 \\leq x \\leq 2$, I can write\n",
    "```\n",
    "plot(g,(x,-2,2))\n",
    "```\n",
    "Notice the $x$ is there to tell the computer what is being restricted. Your turn."
   ]
  },
  {
   "cell_type": "code",
   "execution_count": null,
   "metadata": {},
   "outputs": [],
   "source": []
  },
  {
   "cell_type": "markdown",
   "metadata": {},
   "source": [
    "To trim the $y$-axis down, use the `ylim` option. Write the following in the cell below\n",
    "```\n",
    "plot(g,(x,-2,2),ylim=(0,50000))\n",
    "```"
   ]
  },
  {
   "cell_type": "code",
   "execution_count": null,
   "metadata": {},
   "outputs": [],
   "source": []
  },
  {
   "cell_type": "markdown",
   "metadata": {},
   "source": [
    "Let's live on the edge a bit. If we are brave, we can even plot multiple graphs in the same image. Here is the code.\n",
    "```\n",
    "p1 = plot(f,show=False)\n",
    "p2 = plot(g,show=False)\n",
    "p1.append(p2[0])\n",
    "p1.show()\n",
    "```\n",
    "In this code we define two plots `p1`, `p2` but we use the `show` option. This option is usually set to `True`, but since we don't want to see these graphs right away, we set it to `False`. Then we use the \"dot\" function `append()` to append `p2` to `p1` (careful with the syntax there is a `[0]`, ask if you are curious about it). Finally we show both graphs using another \"dot\" function `show()`; not to be confused with the show option.\n",
    "\n",
    "Go ahead and type (or copy/paste if you dare) all the lines in the cell below and evaluate it."
   ]
  },
  {
   "cell_type": "code",
   "execution_count": null,
   "metadata": {},
   "outputs": [],
   "source": []
  },
  {
   "cell_type": "markdown",
   "metadata": {},
   "source": [
    "If all went well you have two graphs. You should give yourself a pat on the back. Nice job. \n",
    "\n",
    "With these powers combined, we can plot piecewise defined functions! What if we wanted to plot the following?\n",
    "$$\n",
    "p(x) = \\begin{cases} f(x) & x\\leq -5 \\\\ g(x) & x > -5 \\end{cases}\n",
    "$$\n",
    "All we need to do is modify the code above using the domain interval as such (of course you need to try this)\n",
    "```\n",
    "p1 = plot(f,(x,-10,-5),show=False)\n",
    "p2 = plot(g,(x,-5,10),show=False)\n",
    "p1.append(p2[0])\n",
    "p1.show()\n",
    "```"
   ]
  },
  {
   "cell_type": "code",
   "execution_count": null,
   "metadata": {},
   "outputs": [],
   "source": []
  },
  {
   "cell_type": "markdown",
   "metadata": {},
   "source": [
    "Your turn. Focus in on the part of the graph such that $-7.5 \\leq x \\leq 1$ and $0 \\leq y \\leq 50000$. Once finished ask you partner if the limit exists at $x=-5$."
   ]
  },
  {
   "cell_type": "code",
   "execution_count": null,
   "metadata": {},
   "outputs": [],
   "source": []
  },
  {
   "cell_type": "markdown",
   "metadata": {},
   "source": [
    "### Calculating limits\n",
    "\n",
    "To calculate a limit we can use the built in `limit()` function. For example, to calculate $\\displaystyle\\lim_{x\\to -5} f(x)$ write the following and evaluate it.\n",
    "```\n",
    "limit(f,x,-5)\n",
    "```"
   ]
  },
  {
   "cell_type": "code",
   "execution_count": null,
   "metadata": {},
   "outputs": [],
   "source": []
  },
  {
   "cell_type": "markdown",
   "metadata": {},
   "source": [
    "Your turn. Find $\\displaystyle\\lim_{x \\to -5} g(x)$. Does your result agree with your plot above? Discuss it with your partner. "
   ]
  },
  {
   "cell_type": "code",
   "execution_count": null,
   "metadata": {},
   "outputs": [],
   "source": []
  },
  {
   "cell_type": "markdown",
   "metadata": {},
   "source": [
    "Now try to calculate $\\displaystyle\\lim_{x\\to 1}\\frac{x^2-1}{x-1}$. "
   ]
  },
  {
   "cell_type": "code",
   "execution_count": null,
   "metadata": {},
   "outputs": [],
   "source": []
  },
  {
   "cell_type": "markdown",
   "metadata": {},
   "source": [
    "# Challenge Questions\n",
    "\n",
    "Fantastic job making it through the tutorial. Here are some additional problems to help you hone your skills. These are only for practice and not for credit. "
   ]
  },
  {
   "cell_type": "markdown",
   "metadata": {},
   "source": [
    "### Q1\n",
    "\n",
    "Use the function $f(x)$ defined above to calculate the slope of the secant line between $(1,f(1))$ and $(5,f(5))$. "
   ]
  },
  {
   "cell_type": "code",
   "execution_count": null,
   "metadata": {},
   "outputs": [],
   "source": []
  },
  {
   "cell_type": "markdown",
   "metadata": {},
   "source": [
    "### Q2\n",
    "\n",
    "Use limits to calculate $f'(1)$. (Hint: you need `h = symbols('h')`)"
   ]
  },
  {
   "cell_type": "code",
   "execution_count": null,
   "metadata": {},
   "outputs": [],
   "source": []
  },
  {
   "cell_type": "markdown",
   "metadata": {},
   "source": [
    "### Q3\n",
    "\n",
    "Do questions `Q1` and `Q2` but with $g(x)$. "
   ]
  },
  {
   "cell_type": "code",
   "execution_count": null,
   "metadata": {},
   "outputs": [],
   "source": []
  },
  {
   "cell_type": "markdown",
   "metadata": {},
   "source": [
    "### Q4\n",
    "\n",
    "Plot the function \n",
    "$$\n",
    "p(x) = \\begin{cases} 2x-1 & x\\leq -5 \\\\ x^2 & -5 < x \\leq 5 \\\\ \\sin(x) & x >5 \\end{cases}\n",
    "$$\n",
    "and determine if the limit exists at $x=-5$ and $x=5$. "
   ]
  },
  {
   "cell_type": "code",
   "execution_count": null,
   "metadata": {},
   "outputs": [],
   "source": []
  }
 ],
 "metadata": {
  "kernelspec": {
   "display_name": "Python 3",
   "language": "python",
   "name": "python3"
  },
  "language_info": {
   "codemirror_mode": {
    "name": "ipython",
    "version": 3
   },
   "file_extension": ".py",
   "mimetype": "text/x-python",
   "name": "python",
   "nbconvert_exporter": "python",
   "pygments_lexer": "ipython3",
   "version": "3.7.4"
  }
 },
 "nbformat": 4,
 "nbformat_minor": 2
}
